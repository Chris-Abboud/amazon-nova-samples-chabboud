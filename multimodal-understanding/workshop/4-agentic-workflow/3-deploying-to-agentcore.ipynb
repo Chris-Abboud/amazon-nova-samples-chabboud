{
 "cells": [
  {
   "cell_type": "code",
   "execution_count": null,
   "id": "5ba7552d",
   "metadata": {},
   "outputs": [],
   "source": [
    "%store -r table_name"
   ]
  },
  {
   "cell_type": "markdown",
   "id": "e45107c6",
   "metadata": {},
   "source": [
    "Lets take a look at our revised mcp file that we'll be deploying to AgentCore Runtime. Here we've added an `update_booking` method to update bookings."
   ]
  },
  {
   "cell_type": "code",
   "execution_count": null,
   "id": "44fc1cff",
   "metadata": {},
   "outputs": [],
   "source": [
    "# code to look at restaurant_mcp_agentcore_rt.py"
   ]
  },
  {
   "cell_type": "markdown",
   "id": "d37ba3f5",
   "metadata": {},
   "source": [
    "Now, with the help of agent core took kit, we'll deploy it to agentcore runtime. Be sure to use the table name you specificied in our previous notebook. We'll print here so you can be sure."
   ]
  },
  {
   "cell_type": "code",
   "execution_count": null,
   "id": "e2e946c4",
   "metadata": {},
   "outputs": [],
   "source": [
    "print(table_name)"
   ]
  },
  {
   "cell_type": "markdown",
   "id": "fcd50987",
   "metadata": {},
   "source": [
    "We'll need to create an execution role for this agent in agent core so it can interact with DynamoDB. Let's use our helper function for that?"
   ]
  },
  {
   "cell_type": "code",
   "execution_count": null,
   "id": "b2c54d25",
   "metadata": {},
   "outputs": [],
   "source": [
    "from utils import create_agent_core_execution_role\n",
    "agent_core_role_arn = create_agent_core_execution_role(agent_name='restaurant_booking', dynamodb_table_name=table_name)"
   ]
  },
  {
   "cell_type": "code",
   "execution_count": null,
   "id": "f1d5a602",
   "metadata": {},
   "outputs": [],
   "source": [
    "print(agent_core_role_arn)"
   ]
  },
  {
   "cell_type": "markdown",
   "id": "6fdd0a8b",
   "metadata": {},
   "source": [
    "with our agentcore runtime configured, we'll now deploy it. Run the following command in your terminal.\n",
    "```bash \n",
    "agentcore configure -e restaurant_mcp_agentcore_rt.py\n",
    "```\n",
    "\n",
    "When prompted for an Execution Role in the agentcore configuration process, be sure to enter the above role ARN."
   ]
  },
  {
   "cell_type": "markdown",
   "id": "34a73d61",
   "metadata": {},
   "source": [
    "Now lets launch our agent - run the following the same terminal. This will deploy your agent to AgentCore Runtime.\n",
    "```bash\n",
    "agentcore launch\n",
    "```"
   ]
  },
  {
   "cell_type": "markdown",
   "id": "d8d9db5f",
   "metadata": {},
   "source": [
    "Now we're ready to test our agent using the agent core runtime:\n",
    "\n",
    "```bash\n",
    "agentcore invoke '{\"prompt\": \"can i make a booking for tonight, for 6 people, at 7 PM? Name is Ferdinand.\"}'\n",
    "```\n",
    "\n",
    "Verify that you're returned a valid booking ID.\n"
   ]
  },
  {
   "cell_type": "markdown",
   "id": "69292971",
   "metadata": {},
   "source": [
    "Let's ask about the details of our recent booking:\n",
    "```bash\n",
    "agentcore invoke '{\"prompt\": \"can you tell me the booking details for booking id <booking id>.\"}'\n",
    "```"
   ]
  },
  {
   "cell_type": "markdown",
   "id": "747534cf",
   "metadata": {},
   "source": []
  },
  {
   "cell_type": "markdown",
   "id": "f43e376b",
   "metadata": {},
   "source": [
    "Let's update our booking\n",
    "```bash\n",
    "agentcore invoke '{\"prompt\": \"can i update a booking i made? Booking is under the name Ferdinand and I need it for 10 people now.\"}'\n",
    "```"
   ]
  },
  {
   "cell_type": "markdown",
   "id": "da363e5d",
   "metadata": {},
   "source": []
  },
  {
   "cell_type": "markdown",
   "id": "1089bc26",
   "metadata": {},
   "source": [
    "### Cleanup\n",
    "Now lets clean up the two main components we've deployed here. We'll do this by deleting the AgentCore Agent Runtime using [`delete_agent_runtime`](https://boto3.amazonaws.com/v1/documentation/api/latest/reference/services/bedrock-agentcore-control/client/delete_agent_runtime.html)\n",
    "\n",
    "To do this, lets show the status of our deployment by running the corresponding command in agentcore:\n",
    "```bash\n",
    "agentcore status\n",
    "```"
   ]
  },
  {
   "cell_type": "code",
   "execution_count": null,
   "id": "107326b7",
   "metadata": {},
   "outputs": [],
   "source": [
    "!agentcore status"
   ]
  },
  {
   "cell_type": "code",
   "execution_count": null,
   "id": "6ebb23ed",
   "metadata": {},
   "outputs": [],
   "source": [
    "import boto3\n",
    "agent_rt_client = boto3.client('bedrock-agentcore-control')\n",
    "response = agent_rt_client.delete_agent_runtime(\n",
    "    agentRuntimeId='<agentruntime_id>'\n",
    ")\n",
    "print(response)"
   ]
  },
  {
   "cell_type": "markdown",
   "id": "c0225ee1",
   "metadata": {},
   "source": [
    "Now lets check status to make sure its in DELETING status"
   ]
  },
  {
   "cell_type": "code",
   "execution_count": null,
   "id": "89e9899d",
   "metadata": {},
   "outputs": [],
   "source": [
    "!agentcore status"
   ]
  },
  {
   "cell_type": "markdown",
   "id": "f8c35e7d",
   "metadata": {},
   "source": [
    "After a few moments your agent should now be deleted."
   ]
  },
  {
   "cell_type": "markdown",
   "id": "39183f2e",
   "metadata": {},
   "source": []
  }
 ],
 "metadata": {
  "kernelspec": {
   "display_name": "4-agentic-workflow-R0bE6reB",
   "language": "python",
   "name": "python3"
  },
  "language_info": {
   "codemirror_mode": {
    "name": "ipython",
    "version": 3
   },
   "file_extension": ".py",
   "mimetype": "text/x-python",
   "name": "python",
   "nbconvert_exporter": "python",
   "pygments_lexer": "ipython3",
   "version": "3.13.5"
  }
 },
 "nbformat": 4,
 "nbformat_minor": 5
}
